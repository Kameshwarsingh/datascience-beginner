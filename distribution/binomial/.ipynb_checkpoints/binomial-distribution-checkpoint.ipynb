{
 "cells": [
  {
   "cell_type": "markdown",
   "id": "df5e8ee2-70bb-4ec3-b66a-c3916cfa540a",
   "metadata": {},
   "source": [
    "#### Probability distribution \n",
    "-Binomial distribution\n"
   ]
  },
  {
   "cell_type": "code",
   "execution_count": 6,
   "id": "06e34793",
   "metadata": {},
   "outputs": [],
   "source": [
    "from scipy.stats import binom \n",
    "import matplotlib.pyplot as plt"
   ]
  },
  {
   "cell_type": "code",
   "execution_count": 7,
   "id": "d4b044fb",
   "metadata": {},
   "outputs": [
    {
     "data": {
      "image/png": "[encoded data removed]",
      "text/plain": [
       "<Figure size 640x480 with 1 Axes>"
      ]
     },
     "metadata": {},
     "output_type": "display_data"
    }
   ],
   "source": [
    "n = 6 #number of trials\n",
    "p = 0.5 #probability of success\n",
    "\n",
    "# defining list of r values \n",
    "r_values = list(range(n + 1)) \n",
    "\n",
    "# obtaining the mean and variance  \n",
    "#mean, var = binom.stats(n, p)\n",
    "mean, var, skew, kurt = binom.stats(n, p, moments='mvsk')\n",
    "\n",
    "# list of pmf values \n",
    "dist = [binom.pmf(r, n, p) for r in r_values ] \n",
    "\n",
    "# plotting the graph \n",
    "plt.bar(r_values, dist) \n",
    "plt.show()\n"
   ]
  },
  {
   "cell_type": "code",
   "execution_count": 8,
   "id": "03600ac5",
   "metadata": {},
   "outputs": [
    {
     "name": "stdout",
     "output_type": "stream",
     "text": [
      "r\tp(r)\n",
      "0\t0.01562500000000012\n",
      "1\t0.09375000000000003\n",
      "2\t0.23437500000000003\n",
      "3\t0.31249999999999983\n",
      "4\t0.234375\n",
      "5\t0.09375000000000003\n",
      "6\t0.015625\n",
      "mean = 3.0\n",
      "variance = 1.5\n",
      "skew = 0.0\n",
      "kurt = -0.3333333333333333\n"
     ]
    }
   ],
   "source": [
    "print(\"r\\tp(r)\") \n",
    "for i in range(n + 1): \n",
    "    print(str(r_values[i]) + \"\\t\" + str(dist[i])) \n",
    "# printing mean and variance \n",
    "print(\"mean = \"+str(mean)) \n",
    "print(\"variance = \"+str(var))\n",
    "print(\"skew = \"+str(skew)) \n",
    "print(\"kurt = \"+str(kurt))"
   ]
  },
  {
   "cell_type": "code",
   "execution_count": null,
   "id": "6be01020",
   "metadata": {},
   "outputs": [],
   "source": []
  },
  {
   "cell_type": "code",
   "execution_count": null,
   "id": "9841b1de",
   "metadata": {},
   "outputs": [],
   "source": []
  }
 ],
 "metadata": {
  "kernelspec": {
   "display_name": "Python 3 (ipykernel)",
   "language": "python",
   "name": "python3"
  },
  "language_info": {
   "codemirror_mode": {
    "name": "ipython",
    "version": 3
   },
   "file_extension": ".py",
   "mimetype": "text/x-python",
   "name": "python",
   "nbconvert_exporter": "python",
   "pygments_lexer": "ipython3",
   "version": "3.11.3"
  }
 },
 "nbformat": 4,
 "nbformat_minor": 5
}
