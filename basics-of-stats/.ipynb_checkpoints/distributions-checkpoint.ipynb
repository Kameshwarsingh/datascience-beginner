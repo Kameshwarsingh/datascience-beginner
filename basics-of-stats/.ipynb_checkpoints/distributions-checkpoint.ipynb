{
 "cells": [
  {
   "cell_type": "raw",
   "id": "aadf3f75",
   "metadata": {},
   "source": [
    "https://discovery.cs.illinois.edu/learn/Polling-Confidence-Intervals-and-Hypothesis-Testing/Python-Functions-for-Random-Distributions/\n",
    "\n",
    "\n"
   ]
  },
  {
   "cell_type": "markdown",
   "id": "dc4e3954",
   "metadata": {},
   "source": [
    "#### Binomial distribution\n",
    "\n",
    "    1)CDF - cumulative binomial probability of obtaining x or fewer 'events' in the specified number of trials and probability of success for each trial.\n",
    "    CDFBinomial(5,10,0.5) = 0.623\n",
    "\n",
    "\n",
    "    2)PDF - binomial probability of obtaining exactly x 'events' in the specified number of trials and probability of success for each trial.\n",
    "    PDFBinomial(5,10,0.5) = 0.246\n",
    "\n",
    "https://www.medcalc.org/manual/binomial-distribution-functions.php"
   ]
  },
  {
   "cell_type": "code",
   "execution_count": 1,
   "id": "605fe49b",
   "metadata": {},
   "outputs": [],
   "source": [
    "from scipy.stats import binom\n",
    "import matplotlib.pyplot as plt\n",
    "import numpy as np"
   ]
  },
  {
   "cell_type": "code",
   "execution_count": 2,
   "id": "63a67968",
   "metadata": {},
   "outputs": [],
   "source": [
    "COIN = binom(n=10, p=0.5)"
   ]
  },
  {
   "cell_type": "code",
   "execution_count": 3,
   "id": "0fe2bade",
   "metadata": {},
   "outputs": [
    {
     "data": {
      "text/plain": [
       "0.0107421875"
      ]
     },
     "execution_count": 3,
     "metadata": {},
     "output_type": "execute_result"
    }
   ],
   "source": [
    "#what is probability of getting head : area left of CDF (cumulative distribution) = 1.5\n",
    "COIN.cdf(1.5)"
   ]
  },
  {
   "cell_type": "code",
   "execution_count": 4,
   "id": "1d067cc0",
   "metadata": {},
   "outputs": [
    {
     "data": {
      "text/plain": [
       "0.0546875"
      ]
     },
     "execution_count": 4,
     "metadata": {},
     "output_type": "execute_result"
    }
   ],
   "source": [
    "#what is probability of getting head : area left of CDF (cumulative distribution) = 2\n",
    "COIN.cdf(2)"
   ]
  },
  {
   "cell_type": "code",
   "execution_count": 5,
   "id": "fa7e09b4",
   "metadata": {},
   "outputs": [
    {
     "data": {
      "text/plain": [
       "0.0009765625"
      ]
     },
     "execution_count": 5,
     "metadata": {},
     "output_type": "execute_result"
    }
   ],
   "source": [
    "#COIN.cdf(0.2) asks \"what percentage of results have 0.2 or fewer heads?\"\n",
    "COIN.cdf(0.2)\n"
   ]
  },
  {
   "cell_type": "code",
   "execution_count": 6,
   "id": "b8337447",
   "metadata": {},
   "outputs": [
    {
     "data": {
      "text/plain": [
       "0.0107421875"
      ]
     },
     "execution_count": 6,
     "metadata": {},
     "output_type": "execute_result"
    }
   ],
   "source": [
    "#COIN.cdf(1) asks \"what percentage of results have 1 or fewer heads?\"\n",
    "COIN.cdf(1)\n"
   ]
  },
  {
   "cell_type": "code",
   "execution_count": 7,
   "id": "0137bb60",
   "metadata": {},
   "outputs": [
    {
     "data": {
      "text/plain": [
       "0.0546875"
      ]
     },
     "execution_count": 7,
     "metadata": {},
     "output_type": "execute_result"
    }
   ],
   "source": [
    "#COIN.cdf(2) asks \"what percentage of results have 2 or fewer heads?\"\n",
    "COIN.cdf(2)"
   ]
  },
  {
   "cell_type": "code",
   "execution_count": 8,
   "id": "48cd8ef6",
   "metadata": {},
   "outputs": [
    {
     "data": {
      "text/plain": [
       "4.0"
      ]
     },
     "execution_count": 8,
     "metadata": {},
     "output_type": "execute_result"
    }
   ],
   "source": [
    "#COIN.ppf(0.2) asks \"what is the 20%-tile of heads?\n",
    "COIN.ppf(0.2)"
   ]
  },
  {
   "cell_type": "code",
   "execution_count": 9,
   "id": "bf3740f2",
   "metadata": {},
   "outputs": [
    {
     "data": {
      "text/plain": [
       "5.0"
      ]
     },
     "execution_count": 9,
     "metadata": {},
     "output_type": "execute_result"
    }
   ],
   "source": [
    "#COIN.ppf(0.6) asks \"what is the 60%-tile of heads?\n",
    "COIN.ppf(0.6)"
   ]
  },
  {
   "cell_type": "code",
   "execution_count": 10,
   "id": "612aa555",
   "metadata": {},
   "outputs": [
    {
     "data": {
      "text/plain": [
       "9.0"
      ]
     },
     "execution_count": 10,
     "metadata": {},
     "output_type": "execute_result"
    }
   ],
   "source": [
    "#COIN.ppf(0.99) asks \"what is the 99%-tile of heads?\n",
    "COIN.ppf(0.99)"
   ]
  },
  {
   "cell_type": "code",
   "execution_count": null,
   "id": "2cd84662",
   "metadata": {},
   "outputs": [],
   "source": []
  },
  {
   "cell_type": "code",
   "execution_count": null,
   "id": "b34a7698",
   "metadata": {},
   "outputs": [],
   "source": []
  },
  {
   "cell_type": "code",
   "execution_count": null,
   "id": "09155ac0",
   "metadata": {},
   "outputs": [],
   "source": []
  },
  {
   "cell_type": "code",
   "execution_count": 11,
   "id": "9fabefc8",
   "metadata": {},
   "outputs": [],
   "source": [
    "from scipy.stats import binom \n",
    "import matplotlib.pyplot as plt"
   ]
  },
  {
   "cell_type": "code",
   "execution_count": 12,
   "id": "d6389cec",
   "metadata": {},
   "outputs": [],
   "source": [
    "n = 6\n",
    "p = 0.7\n",
    "# defining list of r values \n",
    "r_values = list(range(n + 1))"
   ]
  },
  {
   "cell_type": "code",
   "execution_count": 13,
   "id": "85ab62af",
   "metadata": {},
   "outputs": [],
   "source": [
    "mean, var = binom.stats(n, p) "
   ]
  },
  {
   "cell_type": "code",
   "execution_count": 14,
   "id": "bb0c85a4",
   "metadata": {},
   "outputs": [
    {
     "name": "stdout",
     "output_type": "stream",
     "text": [
      "Mean: 4.199999999999999 , Var:1.26\n"
     ]
    }
   ],
   "source": [
    "print(f\"Mean: {mean} , Var:{var}\")"
   ]
  },
  {
   "cell_type": "code",
   "execution_count": 15,
   "id": "79a2dc21",
   "metadata": {},
   "outputs": [
    {
     "data": {
      "text/plain": [
       "[0, 1, 2, 3, 4, 5, 6]"
      ]
     },
     "execution_count": 15,
     "metadata": {},
     "output_type": "execute_result"
    }
   ],
   "source": [
    "r_values"
   ]
  },
  {
   "cell_type": "code",
   "execution_count": 16,
   "id": "dad8395f",
   "metadata": {},
   "outputs": [],
   "source": [
    "dist = [binom.pmf(r, n, p) for r in r_values ] "
   ]
  },
  {
   "cell_type": "code",
   "execution_count": 17,
   "id": "d1302083",
   "metadata": {},
   "outputs": [
    {
     "data": {
      "text/plain": [
       "[0.0007289999999999997,\n",
       " 0.010206000000000002,\n",
       " 0.059535,\n",
       " 0.18521999999999988,\n",
       " 0.3241349999999999,\n",
       " 0.3025259999999998,\n",
       " 0.11764899999999996]"
      ]
     },
     "execution_count": 17,
     "metadata": {},
     "output_type": "execute_result"
    }
   ],
   "source": [
    "dist"
   ]
  },
  {
   "cell_type": "code",
   "execution_count": 18,
   "id": "236651f3",
   "metadata": {},
   "outputs": [
    {
     "data": {
      "image/png": "[encoded data removed]",
      "text/plain": [
       "<Figure size 640x480 with 1 Axes>"
      ]
     },
     "metadata": {},
     "output_type": "display_data"
    }
   ],
   "source": [
    "# plotting the graph \n",
    "plt.bar(r_values, dist) \n",
    "plt.show()"
   ]
  },
  {
   "cell_type": "code",
   "execution_count": null,
   "id": "22905ce2",
   "metadata": {},
   "outputs": [],
   "source": []
  },
  {
   "cell_type": "code",
   "execution_count": null,
   "id": "ba2b276f",
   "metadata": {},
   "outputs": [],
   "source": []
  },
  {
   "cell_type": "code",
   "execution_count": 19,
   "id": "86bb1b0b",
   "metadata": {},
   "outputs": [
    {
     "name": "stdout",
     "output_type": "stream",
     "text": [
      "    success  probability_of_success\n",
      "0         0                     0.4\n",
      "1         1                     0.6\n",
      "2         1                     0.6\n",
      "3         1                     0.6\n",
      "4         0                     0.4\n",
      "5         1                     0.6\n",
      "6         1                     0.6\n",
      "7         1                     0.6\n",
      "8         0                     0.4\n",
      "9         1                     0.6\n",
      "10        1                     0.6\n",
      "11        1                     0.6\n",
      "12        0                     0.4\n",
      "13        1                     0.6\n",
      "14        1                     0.6\n",
      "15        1                     0.6\n"
     ]
    }
   ],
   "source": [
    "import pandas as pd\n",
    "from scipy.stats import binom\n",
    "\n",
    "# Load your dataset\n",
    "df = pd.read_csv('your_dataset.csv')\n",
    "\n",
    "# Assuming 'success' is a binary column indicating success (1) or failure (0)\n",
    "success_column = 'success'  # Replace with your actual column name\n",
    "\n",
    "# Calculate the probability of success for each observation\n",
    "df['probability_of_success'] = binom.pmf(df[success_column], n=1, p=0.6)\n",
    "# 'n' is the number of trials (in this case, 1 for a single Bernoulli trial)\n",
    "# 'p' is the probability of success on each trial\n",
    "\n",
    "# Display the resulting DataFrame with the calculated probabilities\n",
    "print(df[['success', 'probability_of_success']])"
   ]
  },
  {
   "cell_type": "code",
   "execution_count": 20,
   "id": "d5e89564",
   "metadata": {},
   "outputs": [],
   "source": [
    "import pandas as pd\n",
    "# Load your dataset\n",
    "df = pd.read_csv('your_dataset.csv')\n",
    "# Assuming 'outcome' is a column in your dataset representing the discrete outcomes\n",
    "outcome_column = 'success'  # Replace with your actual column name"
   ]
  },
  {
   "cell_type": "code",
   "execution_count": 21,
   "id": "586c484d",
   "metadata": {},
   "outputs": [
    {
     "data": {
      "text/plain": [
       "success\n",
       "1    12\n",
       "0     4\n",
       "Name: count, dtype: int64"
      ]
     },
     "execution_count": 21,
     "metadata": {},
     "output_type": "execute_result"
    }
   ],
   "source": [
    "df[outcome_column].value_counts()"
   ]
  },
  {
   "cell_type": "code",
   "execution_count": 22,
   "id": "653bc83f",
   "metadata": {},
   "outputs": [],
   "source": [
    "# Calculate the empirical PMF\n",
    "pmf = df[outcome_column].value_counts(normalize=True).sort_index()"
   ]
  },
  {
   "cell_type": "code",
   "execution_count": 23,
   "id": "6db19202",
   "metadata": {},
   "outputs": [
    {
     "name": "stdout",
     "output_type": "stream",
     "text": [
      "Empirical PMF:\n",
      "success\n",
      "0    0.25\n",
      "1    0.75\n",
      "Name: proportion, dtype: float64\n"
     ]
    }
   ],
   "source": [
    "# Display the PMF\n",
    "print('Empirical PMF:')\n",
    "print(pmf)"
   ]
  },
  {
   "cell_type": "code",
   "execution_count": null,
   "id": "0bfd84ff",
   "metadata": {},
   "outputs": [],
   "source": []
  },
  {
   "cell_type": "code",
   "execution_count": null,
   "id": "d58e385d-7e94-4248-892b-351c64305d40",
   "metadata": {},
   "outputs": [],
   "source": []
  },
  {
   "cell_type": "code",
   "execution_count": null,
   "id": "f328b4b9-5dbb-4646-a8f6-d734a2ab1781",
   "metadata": {},
   "outputs": [],
   "source": []
  },
  {
   "cell_type": "code",
   "execution_count": null,
   "id": "87550473-aec3-4322-8c4c-c878728dc4a8",
   "metadata": {},
   "outputs": [],
   "source": []
  },
  {
   "cell_type": "code",
   "execution_count": null,
   "id": "06cdd1d6-c198-469f-9c40-96e29247e0eb",
   "metadata": {},
   "outputs": [],
   "source": []
  }
 ],
 "metadata": {
  "kernelspec": {
   "display_name": "Python 3 (ipykernel)",
   "language": "python",
   "name": "python3"
  },
  "language_info": {
   "codemirror_mode": {
    "name": "ipython",
    "version": 3
   },
   "file_extension": ".py",
   "mimetype": "text/x-python",
   "name": "python",
   "nbconvert_exporter": "python",
   "pygments_lexer": "ipython3",
   "version": "3.11.3"
  }
 },
 "nbformat": 4,
 "nbformat_minor": 5
}
