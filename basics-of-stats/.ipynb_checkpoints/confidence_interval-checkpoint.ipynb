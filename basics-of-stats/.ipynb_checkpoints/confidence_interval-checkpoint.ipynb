{
 "cells": [
  {
   "cell_type": "raw",
   "id": "459f52d6-9c52-41f8-b8ca-eba744d842cb",
   "metadata": {},
   "source": [
    "https://www.youtube.com/watch?v=dl0CXDsTYjk&list=PLqzoL9-eJTNAB5st3mtP_bmXafGSH1Dtz&index=19"
   ]
  },
  {
   "cell_type": "raw",
   "id": "8b43c958-7e16-4897-8f99-71246644f22b",
   "metadata": {},
   "source": [
    "Confidence Interval Concept Explained"
   ]
  },
  {
   "cell_type": "raw",
   "id": "0d8b253c-4259-4c94-8fbe-a1e254500c67",
   "metadata": {},
   "source": [
    "https://www.youtube.com/watch?v=6F6frEyMxuk&list=PLqzoL9-eJTNAB5st3mtP_bmXafGSH1Dtz&index=20"
   ]
  },
  {
   "cell_type": "raw",
   "id": "9ecac851-3786-413e-bf95-29d9b6eb151a",
   "metadata": {},
   "source": [
    "A confidence interval is a statistical concept that provides a range of values which is likely to contain the true value of an unknown parameter. The level of confidence indicates the probability that the interval contains the true parameter."
   ]
  },
  {
   "cell_type": "code",
   "execution_count": 2,
   "id": "9c11ca35-8470-49f8-af36-cb68737aa7d1",
   "metadata": {},
   "outputs": [
    {
     "name": "stdout",
     "output_type": "stream",
     "text": [
      "Mean: 48.96153482605907\n",
      "Standard Error of the Mean (SEM): 0.9081684280078008\n",
      "Confidence Interval (95.0%): (47.159531636381004, 50.76353801573714)\n"
     ]
    }
   ],
   "source": [
    "import numpy as np\n",
    "from scipy import stats\n",
    "\n",
    "# Generate a random dataset (replace this with your actual data)\n",
    "np.random.seed(42)\n",
    "data = np.random.normal(loc=50, scale=10, size=100)\n",
    "\n",
    "# Calculate the mean and standard error of the mean (SEM)\n",
    "mean_value = np.mean(data)\n",
    "sem_value = stats.sem(data)\n",
    "\n",
    "# Set the confidence level (e.g., 95% confidence interval)\n",
    "confidence_level = 0.95\n",
    "\n",
    "# Calculate the margin of error\n",
    "margin_of_error = stats.t.ppf((1 + confidence_level) / 2, len(data) - 1) * sem_value\n",
    "\n",
    "# Calculate the confidence interval\n",
    "confidence_interval = (mean_value - margin_of_error, mean_value + margin_of_error)\n",
    "\n",
    "print(f\"Mean: {mean_value}\")\n",
    "print(f\"Standard Error of the Mean (SEM): {sem_value}\")\n",
    "print(f\"Confidence Interval ({confidence_level * 100}%): {confidence_interval}\")\n"
   ]
  },
  {
   "cell_type": "code",
   "execution_count": null,
   "id": "8badf217-1236-4477-87d7-a19a950b6729",
   "metadata": {},
   "outputs": [],
   "source": []
  },
  {
   "cell_type": "code",
   "execution_count": null,
   "id": "0511814e-310e-4a59-9b94-549b67af91f0",
   "metadata": {},
   "outputs": [],
   "source": []
  },
  {
   "cell_type": "code",
   "execution_count": null,
   "id": "8c807ce1-4f52-4887-99d1-085b7f32e1ba",
   "metadata": {},
   "outputs": [],
   "source": []
  },
  {
   "cell_type": "code",
   "execution_count": null,
   "id": "59c02eaa-af7c-4c51-ada9-e912f0c003db",
   "metadata": {},
   "outputs": [],
   "source": []
  },
  {
   "cell_type": "code",
   "execution_count": null,
   "id": "34222e15-aa3a-45d8-b464-cbbc21712e11",
   "metadata": {},
   "outputs": [],
   "source": []
  }
 ],
 "metadata": {
  "kernelspec": {
   "display_name": "Python 3 (ipykernel)",
   "language": "python",
   "name": "python3"
  },
  "language_info": {
   "codemirror_mode": {
    "name": "ipython",
    "version": 3
   },
   "file_extension": ".py",
   "mimetype": "text/x-python",
   "name": "python",
   "nbconvert_exporter": "python",
   "pygments_lexer": "ipython3",
   "version": "3.11.3"
  }
 },
 "nbformat": 4,
 "nbformat_minor": 5
}
