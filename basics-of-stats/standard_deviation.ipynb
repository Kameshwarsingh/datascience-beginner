{
 "cells": [
  {
   "cell_type": "raw",
   "id": "d973141d-4624-4a9e-b112-89c7c8db845b",
   "metadata": {},
   "source": [
    "https://www.youtube.com/watch?v=nlm9gfso4mw&list=PLqzoL9-eJTNAB5st3mtP_bmXafGSH1Dtz&index=13"
   ]
  },
  {
   "cell_type": "markdown",
   "id": "d0385508-ebc2-4fe2-b435-9b95cc131105",
   "metadata": {},
   "source": [
    "Standard Deviation & Degrees of Freedom"
   ]
  },
  {
   "cell_type": "code",
   "execution_count": null,
   "id": "2bb2a004-3259-473c-a226-8d5c8840af63",
   "metadata": {},
   "outputs": [],
   "source": []
  }
 ],
 "metadata": {
  "kernelspec": {
   "display_name": "Python 3 (ipykernel)",
   "language": "python",
   "name": "python3"
  },
  "language_info": {
   "codemirror_mode": {
    "name": "ipython",
    "version": 3
   },
   "file_extension": ".py",
   "mimetype": "text/x-python",
   "name": "python",
   "nbconvert_exporter": "python",
   "pygments_lexer": "ipython3",
   "version": "3.11.3"
  }
 },
 "nbformat": 4,
 "nbformat_minor": 5
}
