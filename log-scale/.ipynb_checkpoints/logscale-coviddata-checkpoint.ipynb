{
 "cells": [
  {
   "cell_type": "raw",
   "id": "781e5fdc",
   "metadata": {},
   "source": [
    "what information logmarithmic charts convey that linear do not\n",
    "\n",
    "There are two main reasons to use logarithmic scales in charts and graphs. \n",
    "    -The first is to respond to skewness towards large values; i.e., cases in which one or a few points are much larger than the bulk of the data.  (Outliers)\n",
    "    - The second is to show percent change or multiplicative factors. \n",
    "       https://www.youtube.com/watch?v=vlqBuqh-Mpc\n",
    "    \n",
    "    https://www.youtube.com/watch?v=eJF9hiv3c-A\n",
    "    "
   ]
  },
  {
   "cell_type": "raw",
   "id": "28cb0aa4",
   "metadata": {},
   "source": [
    "what we mean by logarithms?\n",
    " logs are just another way of writing exponential equations, one that allows you to separate the exponent on one side of the equation.  \n",
    " - The equation 2^4 = 16 can be rewritten as log2 (16) = 4 and pronounced \"log to the base 2 of 16 is 4.\"\n",
    " - It is helpful to remember that the log is the exponent, in this case, \"4\".\n",
    " \n",
    " The equation \n",
    " y = log b (x) means that y is the power or exponent that b is raised to in order to get x.\n",
    " \n",
    " Example -\n",
    " 4  = log2(16)  -> 4 is the power or exponent that b(in this case 2) is raised to in order to get x (in this case 16)\n",
    "\n",
    "\n",
    "Another example \n",
    "The linear scale shows the absolute number of widgets over time while the logarithmic scale shows the rate of change of the number of widgets over time.\n",
    "\n",
    "\n",
    "Log scale - Proportioanlty is constant between intervals\n",
    " "
   ]
  },
  {
   "cell_type": "raw",
   "id": "4c7bfc40",
   "metadata": {},
   "source": [
    "The common base for logarithmic scales is the base 10"
   ]
  },
  {
   "cell_type": "code",
   "execution_count": 1,
   "id": "bc749469",
   "metadata": {},
   "outputs": [],
   "source": [
    "import pandas as pd\n",
    "import numpy as np\n",
    "import matplotlib.pyplot as plt\n",
    "%matplotlib inline  \n",
    "#jupyter notebook --NotebookApp.iopub_data_rate_limit=1.0e10\n",
    "\n",
    "import warnings\n",
    "warnings.filterwarnings('ignore')"
   ]
  },
  {
   "cell_type": "code",
   "execution_count": 2,
   "id": "5b68aeb0",
   "metadata": {},
   "outputs": [],
   "source": [
    "#https://www.kaggle.com/datasets/imdevskp/corona-virus-report?resource=download\n",
    "#https://www.ecdc.europa.eu/en/publications-data/download-todays-data-geographic-distribution-covid-19-cases-worldwide\n",
    "df = pd.read_csv('COVID-19-geographic-disbtribution-worldwide.csv')"
   ]
  },
  {
   "cell_type": "code",
   "execution_count": 3,
   "id": "d53335c1",
   "metadata": {},
   "outputs": [],
   "source": [
    "data_df = pd.DataFrame(data=df)"
   ]
  },
  {
   "cell_type": "code",
   "execution_count": 4,
   "id": "80fb02ff",
   "metadata": {},
   "outputs": [
    {
     "name": "stdout",
     "output_type": "stream",
     "text": [
      "dateRep\n",
      "day\n",
      "month\n",
      "year\n",
      "cases\n",
      "deaths\n",
      "countriesAndTerritories\n",
      "geoId\n",
      "countryterritoryCode\n",
      "popData2019\n",
      "continentExp\n",
      "Cumulative_number_for_14_days_of_COVID-19_cases_per_100000\n"
     ]
    }
   ],
   "source": [
    "for col in data_df.columns:\n",
    "    print(col)"
   ]
  },
  {
   "cell_type": "code",
   "execution_count": 5,
   "id": "ebbc5788",
   "metadata": {},
   "outputs": [],
   "source": [
    "data_df=data_df[[\"dateRep\",\"countryterritoryCode\",\"deaths\"]]"
   ]
  },
  {
   "cell_type": "code",
   "execution_count": 6,
   "id": "2ea943e4",
   "metadata": {},
   "outputs": [
    {
     "data": {
      "text/plain": [
       "185700"
      ]
     },
     "execution_count": 6,
     "metadata": {},
     "output_type": "execute_result"
    }
   ],
   "source": [
    "data_df.size"
   ]
  },
  {
   "cell_type": "code",
   "execution_count": 7,
   "id": "21e511f0",
   "metadata": {},
   "outputs": [
    {
     "data": {
      "text/plain": [
       "dateRep                 object\n",
       "countryterritoryCode    object\n",
       "deaths                   int64\n",
       "dtype: object"
      ]
     },
     "execution_count": 7,
     "metadata": {},
     "output_type": "execute_result"
    }
   ],
   "source": [
    "data_df.dtypes"
   ]
  },
  {
   "cell_type": "code",
   "execution_count": 8,
   "id": "621d4b37",
   "metadata": {},
   "outputs": [],
   "source": [
    "data_df=data_df.loc[data_df['countryterritoryCode'].isin(['USA','CAN'])]"
   ]
  },
  {
   "cell_type": "code",
   "execution_count": 9,
   "id": "feb479a7",
   "metadata": {},
   "outputs": [
    {
     "data": {
      "text/plain": [
       "2100"
      ]
     },
     "execution_count": 9,
     "metadata": {},
     "output_type": "execute_result"
    }
   ],
   "source": [
    "data_df.size"
   ]
  },
  {
   "cell_type": "code",
   "execution_count": 10,
   "id": "93c2f8eb",
   "metadata": {},
   "outputs": [
    {
     "data": {
      "text/plain": [
       "dateRep                 object\n",
       "countryterritoryCode    object\n",
       "deaths                   int64\n",
       "dtype: object"
      ]
     },
     "execution_count": 10,
     "metadata": {},
     "output_type": "execute_result"
    }
   ],
   "source": [
    "data_df.dtypes"
   ]
  },
  {
   "cell_type": "code",
   "execution_count": 11,
   "id": "d42098c0",
   "metadata": {},
   "outputs": [],
   "source": [
    "data_df[\"dateRep\"] = pd.to_datetime(df['dateRep'])"
   ]
  },
  {
   "cell_type": "code",
   "execution_count": 12,
   "id": "3b321563",
   "metadata": {},
   "outputs": [
    {
     "data": {
      "text/plain": [
       "dateRep                 datetime64[ns]\n",
       "countryterritoryCode            object\n",
       "deaths                           int64\n",
       "dtype: object"
      ]
     },
     "execution_count": 12,
     "metadata": {},
     "output_type": "execute_result"
    }
   ],
   "source": [
    "data_df.dtypes"
   ]
  },
  {
   "cell_type": "code",
   "execution_count": 13,
   "id": "10ef45e7",
   "metadata": {},
   "outputs": [
    {
     "data": {
      "text/html": [
       "<div>\n",
       "<style scoped>\n",
       "    .dataframe tbody tr th:only-of-type {\n",
       "        vertical-align: middle;\n",
       "    }\n",
       "\n",
       "    .dataframe tbody tr th {\n",
       "        vertical-align: top;\n",
       "    }\n",
       "\n",
       "    .dataframe thead th {\n",
       "        text-align: right;\n",
       "    }\n",
       "</style>\n",
       "<table border=\"1\" class=\"dataframe\">\n",
       "  <thead>\n",
       "    <tr style=\"text-align: right;\">\n",
       "      <th></th>\n",
       "      <th>dateRep</th>\n",
       "      <th>countryterritoryCode</th>\n",
       "      <th>deaths</th>\n",
       "    </tr>\n",
       "  </thead>\n",
       "  <tbody>\n",
       "    <tr>\n",
       "      <th>59001</th>\n",
       "      <td>2020-12-14</td>\n",
       "      <td>USA</td>\n",
       "      <td>1340</td>\n",
       "    </tr>\n",
       "    <tr>\n",
       "      <th>59002</th>\n",
       "      <td>2020-12-13</td>\n",
       "      <td>USA</td>\n",
       "      <td>2315</td>\n",
       "    </tr>\n",
       "    <tr>\n",
       "      <th>59003</th>\n",
       "      <td>2020-12-12</td>\n",
       "      <td>USA</td>\n",
       "      <td>3343</td>\n",
       "    </tr>\n",
       "    <tr>\n",
       "      <th>59004</th>\n",
       "      <td>2020-12-11</td>\n",
       "      <td>USA</td>\n",
       "      <td>2748</td>\n",
       "    </tr>\n",
       "    <tr>\n",
       "      <th>59005</th>\n",
       "      <td>2020-12-10</td>\n",
       "      <td>USA</td>\n",
       "      <td>3124</td>\n",
       "    </tr>\n",
       "  </tbody>\n",
       "</table>\n",
       "</div>"
      ],
      "text/plain": [
       "         dateRep countryterritoryCode  deaths\n",
       "59001 2020-12-14                  USA    1340\n",
       "59002 2020-12-13                  USA    2315\n",
       "59003 2020-12-12                  USA    3343\n",
       "59004 2020-12-11                  USA    2748\n",
       "59005 2020-12-10                  USA    3124"
      ]
     },
     "execution_count": 13,
     "metadata": {},
     "output_type": "execute_result"
    }
   ],
   "source": [
    "data_df.loc[data_df['countryterritoryCode'].isin(['USA'])].head()"
   ]
  },
  {
   "cell_type": "code",
   "execution_count": 14,
   "id": "c94816b7",
   "metadata": {},
   "outputs": [],
   "source": [
    "data_USA=data_df.loc[data_df['countryterritoryCode'].isin(['USA'])]\n",
    "data_CAN=data_df.loc[data_df['countryterritoryCode'].isin(['CAN'])]"
   ]
  },
  {
   "cell_type": "code",
   "execution_count": 15,
   "id": "336ecbc1",
   "metadata": {},
   "outputs": [],
   "source": [
    "data_USA.sort_values(by='dateRep', ascending=True)\n",
    "data_USA['cumulative_deaths'] = data_USA['deaths'].cumsum()\n",
    "\n",
    "data_CAN.sort_values(by='dateRep', ascending=True)\n",
    "data_CAN['cumulative_deaths'] = data_CAN['deaths'].cumsum()"
   ]
  },
  {
   "cell_type": "code",
   "execution_count": 16,
   "id": "168aae15",
   "metadata": {},
   "outputs": [
    {
     "data": {
      "text/html": [
       "<div>\n",
       "<style scoped>\n",
       "    .dataframe tbody tr th:only-of-type {\n",
       "        vertical-align: middle;\n",
       "    }\n",
       "\n",
       "    .dataframe tbody tr th {\n",
       "        vertical-align: top;\n",
       "    }\n",
       "\n",
       "    .dataframe thead th {\n",
       "        text-align: right;\n",
       "    }\n",
       "</style>\n",
       "<table border=\"1\" class=\"dataframe\">\n",
       "  <thead>\n",
       "    <tr style=\"text-align: right;\">\n",
       "      <th></th>\n",
       "      <th>dateRep</th>\n",
       "      <th>countryterritoryCode</th>\n",
       "      <th>deaths</th>\n",
       "      <th>cumulative_deaths</th>\n",
       "    </tr>\n",
       "  </thead>\n",
       "  <tbody>\n",
       "    <tr>\n",
       "      <th>59001</th>\n",
       "      <td>2020-12-14</td>\n",
       "      <td>USA</td>\n",
       "      <td>1340</td>\n",
       "      <td>1340</td>\n",
       "    </tr>\n",
       "    <tr>\n",
       "      <th>59002</th>\n",
       "      <td>2020-12-13</td>\n",
       "      <td>USA</td>\n",
       "      <td>2315</td>\n",
       "      <td>3655</td>\n",
       "    </tr>\n",
       "    <tr>\n",
       "      <th>59003</th>\n",
       "      <td>2020-12-12</td>\n",
       "      <td>USA</td>\n",
       "      <td>3343</td>\n",
       "      <td>6998</td>\n",
       "    </tr>\n",
       "    <tr>\n",
       "      <th>59004</th>\n",
       "      <td>2020-12-11</td>\n",
       "      <td>USA</td>\n",
       "      <td>2748</td>\n",
       "      <td>9746</td>\n",
       "    </tr>\n",
       "    <tr>\n",
       "      <th>59005</th>\n",
       "      <td>2020-12-10</td>\n",
       "      <td>USA</td>\n",
       "      <td>3124</td>\n",
       "      <td>12870</td>\n",
       "    </tr>\n",
       "  </tbody>\n",
       "</table>\n",
       "</div>"
      ],
      "text/plain": [
       "         dateRep countryterritoryCode  deaths  cumulative_deaths\n",
       "59001 2020-12-14                  USA    1340               1340\n",
       "59002 2020-12-13                  USA    2315               3655\n",
       "59003 2020-12-12                  USA    3343               6998\n",
       "59004 2020-12-11                  USA    2748               9746\n",
       "59005 2020-12-10                  USA    3124              12870"
      ]
     },
     "execution_count": 16,
     "metadata": {},
     "output_type": "execute_result"
    }
   ],
   "source": [
    "data_USA.head()"
   ]
  },
  {
   "cell_type": "code",
   "execution_count": 17,
   "id": "043455f2",
   "metadata": {},
   "outputs": [
    {
     "data": {
      "image/png": "[encoded data removed]",
      "text/plain": [
       "<Figure size 640x480 with 1 Axes>"
      ]
     },
     "metadata": {},
     "output_type": "display_data"
    }
   ],
   "source": [
    "#plt.plot(X-axis, Y-axis)\n",
    "#plt.rcParams[\"figure.figsize\"] = (20,30)\n",
    "plt.plot(data_USA[\"dateRep\"],data_USA[\"cumulative_deaths\"],color='blue', marker='o')\n",
    "plt.plot(data_CAN[\"dateRep\"],data_CAN[\"cumulative_deaths\"],color='red', marker='o')\n",
    "plt.title(\"Scale - as is\")\n",
    "plt.grid()\n",
    "plt.show()"
   ]
  },
  {
   "cell_type": "code",
   "execution_count": 18,
   "id": "2544eec8",
   "metadata": {},
   "outputs": [
    {
     "data": {
      "image/png": "[encoded data removed]",
      "text/plain": [
       "<Figure size 640x480 with 1 Axes>"
      ]
     },
     "metadata": {},
     "output_type": "display_data"
    }
   ],
   "source": [
    "#plt.plot(X-axis, Y-axis)\n",
    "#plt.rcParams[\"figure.figsize\"] = (20,30)\n",
    "plt.plot(data_USA[\"dateRep\"],np.log10(data_USA[\"cumulative_deaths\"]),color='blue', marker='o')\n",
    "plt.plot(data_CAN[\"dateRep\"],np.log10(data_CAN[\"cumulative_deaths\"]),color='red', marker='o')\n",
    "plt.title(\"Scale - log10\")\n",
    "plt.grid()\n",
    "plt.show()"
   ]
  },
  {
   "cell_type": "code",
   "execution_count": null,
   "id": "fed574bc",
   "metadata": {},
   "outputs": [],
   "source": []
  },
  {
   "cell_type": "code",
   "execution_count": null,
   "id": "b6b212df",
   "metadata": {},
   "outputs": [],
   "source": []
  },
  {
   "cell_type": "code",
   "execution_count": null,
   "id": "36b8fce2-c4ee-40c5-960f-9f6797d7fc1c",
   "metadata": {},
   "outputs": [],
   "source": []
  },
  {
   "cell_type": "code",
   "execution_count": null,
   "id": "84546783-4c03-4abd-b893-01b0f4d4e65b",
   "metadata": {},
   "outputs": [],
   "source": []
  }
 ],
 "metadata": {
  "kernelspec": {
   "display_name": "Python 3 (ipykernel)",
   "language": "python",
   "name": "python3"
  },
  "language_info": {
   "codemirror_mode": {
    "name": "ipython",
    "version": 3
   },
   "file_extension": ".py",
   "mimetype": "text/x-python",
   "name": "python",
   "nbconvert_exporter": "python",
   "pygments_lexer": "ipython3",
   "version": "3.11.3"
  }
 },
 "nbformat": 4,
 "nbformat_minor": 5
}
